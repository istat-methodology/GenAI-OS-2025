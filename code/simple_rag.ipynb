{
  "cells": [
    {
      "cell_type": "code",
      "execution_count": null,
      "id": "4dd7fd76",
      "metadata": {
        "id": "4dd7fd76"
      },
      "outputs": [],
      "source": [
        "%pip install sentence-transformers transformers bitsandbytes accelerate datasets"
      ]
    },
    {
      "cell_type": "markdown",
      "id": "2ddbe740",
      "metadata": {
        "id": "2ddbe740"
      },
      "source": [
        "# Simple Retrieval-Augmented Generation (RAG) Pipeline\n",
        "Here we implement a simple RAG pipeline without relying on vector databases. We will do everything in memory. We *strongly* suggest running this code using a cuda-compatible GPU."
      ]
    },
    {
      "cell_type": "code",
      "execution_count": 31,
      "id": "60e123d7",
      "metadata": {
        "id": "60e123d7"
      },
      "outputs": [],
      "source": [
        "import pandas as pd\n",
        "import torch\n",
        "import datasets\n",
        "from sentence_transformers import SentenceTransformer\n",
        "from transformers import pipeline\n",
        "from sklearn.metrics.pairwise import cosine_similarity\n",
        "\n",
        "device = \"cuda\" if torch.cuda.is_available() else \"cpu\""
      ]
    },
    {
      "cell_type": "markdown",
      "id": "8dab1989",
      "metadata": {
        "id": "8dab1989"
      },
      "source": [
        "<hr>"
      ]
    },
    {
      "cell_type": "markdown",
      "id": "89749057",
      "metadata": {
        "id": "89749057"
      },
      "source": [
        "## Data\n",
        "First, we need to load data containing textual information that we want to encode. If you are running this in Google Colab, upload the \"isco-08-en.csv\" dataset to the root of the project."
      ]
    },
    {
      "cell_type": "code",
      "execution_count": 4,
      "id": "c64e75d1",
      "metadata": {
        "colab": {
          "base_uri": "https://localhost:8080/",
          "height": 206
        },
        "id": "c64e75d1",
        "outputId": "a9e11159-e1a1-4c2b-a983-679bbeeb4605"
      },
      "outputs": [
        {
          "data": {
            "application/vnd.google.colaboratory.intrinsic+json": {
              "summary": "{\n  \"name\": \"df\",\n  \"rows\": 53,\n  \"fields\": [\n    {\n      \"column\": \"Level\",\n      \"properties\": {\n        \"dtype\": \"number\",\n        \"std\": 0,\n        \"min\": 1,\n        \"max\": 2,\n        \"num_unique_values\": 2,\n        \"samples\": [\n          2,\n          1\n        ],\n        \"semantic_type\": \"\",\n        \"description\": \"\"\n      }\n    },\n    {\n      \"column\": \"ISCO 08 Code\",\n      \"properties\": {\n        \"dtype\": \"number\",\n        \"std\": 31,\n        \"min\": 0,\n        \"max\": 96,\n        \"num_unique_values\": 50,\n        \"samples\": [\n          31,\n          81\n        ],\n        \"semantic_type\": \"\",\n        \"description\": \"\"\n      }\n    },\n    {\n      \"column\": \"Title EN\",\n      \"properties\": {\n        \"dtype\": \"string\",\n        \"num_unique_values\": 53,\n        \"samples\": [\n          \"General and Keyboard Clerks\",\n          \"Drivers and Mobile Plant Operators\"\n        ],\n        \"semantic_type\": \"\",\n        \"description\": \"\"\n      }\n    },\n    {\n      \"column\": \"Definition\",\n      \"properties\": {\n        \"dtype\": \"string\",\n        \"num_unique_values\": 53,\n        \"samples\": [\n          \"General and keyboard clerks record, organize, store and retrieve information and perform a wide range of clerical and administrative tasks according to established procedures. Competent performance in most occupations in this sub-major group requires skills at the second ISCO skill level.\",\n          \"Drivers and mobile plant operators drive and tend trains and motor vehicles, or drive, operate and monitor industrial and agricultural machinery and equipment, or execute deck duties on board ship and other water-borne craft. Competent performance in most occupations in this sub-major group requires skills at the second ISCO skill level.\"\n        ],\n        \"semantic_type\": \"\",\n        \"description\": \"\"\n      }\n    },\n    {\n      \"column\": \"Tasks include\",\n      \"properties\": {\n        \"dtype\": \"string\",\n        \"num_unique_values\": 49,\n        \"samples\": [\n          \"Tasks performed by workers in this sub-major group usually include: setting up, monitoring and operating instruments and equipment, conducting and monitoring experiments and tests of systems; collecting and testing samples; recording observations and analysing data; preparing, revising and interpreting technical drawings and diagrams; coordinating, supervising, controlling and scheduling the activities of other workers; operating and monitoring switchboards, computerized control systems, and multi-function process control machinery; performing technical functions to ensure safe and efficient movement and operations ships, aircraft and other equipment.\",\n          \"Task performed by workers in this sub-major group usually include: digging holes and spreading excavated materials, sand, soil, and gravel using hand-held tools; sorting, loading, unloading, moving stacking and storing materials, equipment, products, supplies, baggage and cargo by hand; cleaning machinery, equipment, tools and work sites; packing and unpacking material and products and filling containers and shelves with products by hand; operating human-powered and animal-drawn vehicles and machinery\"\n        ],\n        \"semantic_type\": \"\",\n        \"description\": \"\"\n      }\n    },\n    {\n      \"column\": \"Included occupations\",\n      \"properties\": {\n        \"dtype\": \"string\",\n        \"num_unique_values\": 53,\n        \"samples\": [\n          \"Occupations in this sub-major group are classified into the following minor groups:\\n411 General Office Clerks\\n412 Secretaries (general)\\n413 Keyboard Operators\",\n          \"Occupations in this sub-major group are classified into the following minor groups:\\n831 Locomotive Engine Drivers and Related Workers\\n832 Car, Van and Motorcycle Drivers\\n833 Heavy Truck and Bus Drivers\\n834 Mobile Plant Operators\\n835 Ships' Deck Crews and Related Workers\"\n        ],\n        \"semantic_type\": \"\",\n        \"description\": \"\"\n      }\n    }\n  ]\n}",
              "type": "dataframe",
              "variable_name": "df"
            },
            "text/html": [
              "\n",
              "  <div id=\"df-944dd49f-a72c-4398-a855-3d8291226077\" class=\"colab-df-container\">\n",
              "    <div>\n",
              "<style scoped>\n",
              "    .dataframe tbody tr th:only-of-type {\n",
              "        vertical-align: middle;\n",
              "    }\n",
              "\n",
              "    .dataframe tbody tr th {\n",
              "        vertical-align: top;\n",
              "    }\n",
              "\n",
              "    .dataframe thead th {\n",
              "        text-align: right;\n",
              "    }\n",
              "</style>\n",
              "<table border=\"1\" class=\"dataframe\">\n",
              "  <thead>\n",
              "    <tr style=\"text-align: right;\">\n",
              "      <th></th>\n",
              "      <th>Level</th>\n",
              "      <th>ISCO 08 Code</th>\n",
              "      <th>Title EN</th>\n",
              "      <th>Definition</th>\n",
              "      <th>Tasks include</th>\n",
              "      <th>Included occupations</th>\n",
              "    </tr>\n",
              "  </thead>\n",
              "  <tbody>\n",
              "    <tr>\n",
              "      <th>0</th>\n",
              "      <td>1</td>\n",
              "      <td>1</td>\n",
              "      <td>Managers</td>\n",
              "      <td>Managers plan, direct, coordinate and evaluate...</td>\n",
              "      <td>Tasks performed by managers usually include: f...</td>\n",
              "      <td>Occupations in this major group are classified...</td>\n",
              "    </tr>\n",
              "    <tr>\n",
              "      <th>1</th>\n",
              "      <td>2</td>\n",
              "      <td>11</td>\n",
              "      <td>Chief Executives, Senior Officials and Legisla...</td>\n",
              "      <td>Chief executives, senior officials and legisla...</td>\n",
              "      <td>Tasks performed by workers in this sub-major g...</td>\n",
              "      <td>Occupations in this sub-major group are classi...</td>\n",
              "    </tr>\n",
              "    <tr>\n",
              "      <th>2</th>\n",
              "      <td>2</td>\n",
              "      <td>12</td>\n",
              "      <td>Administrative and Commercial Managers</td>\n",
              "      <td>Administrative and commercial managers plan, o...</td>\n",
              "      <td>Tasks performed by workers in this sub-major g...</td>\n",
              "      <td>Occupations in this sub-major group are classi...</td>\n",
              "    </tr>\n",
              "    <tr>\n",
              "      <th>3</th>\n",
              "      <td>2</td>\n",
              "      <td>13</td>\n",
              "      <td>Production and Specialized Services Managers</td>\n",
              "      <td>Production and specialized services managers p...</td>\n",
              "      <td>Tasks performed by workers in this sub-major g...</td>\n",
              "      <td>Occupations in this sub-major group are classi...</td>\n",
              "    </tr>\n",
              "    <tr>\n",
              "      <th>4</th>\n",
              "      <td>2</td>\n",
              "      <td>14</td>\n",
              "      <td>Hospitality, Retail and Other Services Managers</td>\n",
              "      <td>Hospitality, shop and related services manager...</td>\n",
              "      <td>Tasks performed by workers in this sub-major g...</td>\n",
              "      <td>Occupations in this sub-major group are classi...</td>\n",
              "    </tr>\n",
              "  </tbody>\n",
              "</table>\n",
              "</div>\n",
              "    <div class=\"colab-df-buttons\">\n",
              "\n",
              "  <div class=\"colab-df-container\">\n",
              "    <button class=\"colab-df-convert\" onclick=\"convertToInteractive('df-944dd49f-a72c-4398-a855-3d8291226077')\"\n",
              "            title=\"Convert this dataframe to an interactive table.\"\n",
              "            style=\"display:none;\">\n",
              "\n",
              "  <svg xmlns=\"http://www.w3.org/2000/svg\" height=\"24px\" viewBox=\"0 -960 960 960\">\n",
              "    <path d=\"M120-120v-720h720v720H120Zm60-500h600v-160H180v160Zm220 220h160v-160H400v160Zm0 220h160v-160H400v160ZM180-400h160v-160H180v160Zm440 0h160v-160H620v160ZM180-180h160v-160H180v160Zm440 0h160v-160H620v160Z\"/>\n",
              "  </svg>\n",
              "    </button>\n",
              "\n",
              "  <style>\n",
              "    .colab-df-container {\n",
              "      display:flex;\n",
              "      gap: 12px;\n",
              "    }\n",
              "\n",
              "    .colab-df-convert {\n",
              "      background-color: #E8F0FE;\n",
              "      border: none;\n",
              "      border-radius: 50%;\n",
              "      cursor: pointer;\n",
              "      display: none;\n",
              "      fill: #1967D2;\n",
              "      height: 32px;\n",
              "      padding: 0 0 0 0;\n",
              "      width: 32px;\n",
              "    }\n",
              "\n",
              "    .colab-df-convert:hover {\n",
              "      background-color: #E2EBFA;\n",
              "      box-shadow: 0px 1px 2px rgba(60, 64, 67, 0.3), 0px 1px 3px 1px rgba(60, 64, 67, 0.15);\n",
              "      fill: #174EA6;\n",
              "    }\n",
              "\n",
              "    .colab-df-buttons div {\n",
              "      margin-bottom: 4px;\n",
              "    }\n",
              "\n",
              "    [theme=dark] .colab-df-convert {\n",
              "      background-color: #3B4455;\n",
              "      fill: #D2E3FC;\n",
              "    }\n",
              "\n",
              "    [theme=dark] .colab-df-convert:hover {\n",
              "      background-color: #434B5C;\n",
              "      box-shadow: 0px 1px 3px 1px rgba(0, 0, 0, 0.15);\n",
              "      filter: drop-shadow(0px 1px 2px rgba(0, 0, 0, 0.3));\n",
              "      fill: #FFFFFF;\n",
              "    }\n",
              "  </style>\n",
              "\n",
              "    <script>\n",
              "      const buttonEl =\n",
              "        document.querySelector('#df-944dd49f-a72c-4398-a855-3d8291226077 button.colab-df-convert');\n",
              "      buttonEl.style.display =\n",
              "        google.colab.kernel.accessAllowed ? 'block' : 'none';\n",
              "\n",
              "      async function convertToInteractive(key) {\n",
              "        const element = document.querySelector('#df-944dd49f-a72c-4398-a855-3d8291226077');\n",
              "        const dataTable =\n",
              "          await google.colab.kernel.invokeFunction('convertToInteractive',\n",
              "                                                    [key], {});\n",
              "        if (!dataTable) return;\n",
              "\n",
              "        const docLinkHtml = 'Like what you see? Visit the ' +\n",
              "          '<a target=\"_blank\" href=https://colab.research.google.com/notebooks/data_table.ipynb>data table notebook</a>'\n",
              "          + ' to learn more about interactive tables.';\n",
              "        element.innerHTML = '';\n",
              "        dataTable['output_type'] = 'display_data';\n",
              "        await google.colab.output.renderOutput(dataTable, element);\n",
              "        const docLink = document.createElement('div');\n",
              "        docLink.innerHTML = docLinkHtml;\n",
              "        element.appendChild(docLink);\n",
              "      }\n",
              "    </script>\n",
              "  </div>\n",
              "\n",
              "\n",
              "    <div id=\"df-bf3ff068-b0c7-4339-9140-d4711b85bd24\">\n",
              "      <button class=\"colab-df-quickchart\" onclick=\"quickchart('df-bf3ff068-b0c7-4339-9140-d4711b85bd24')\"\n",
              "                title=\"Suggest charts\"\n",
              "                style=\"display:none;\">\n",
              "\n",
              "<svg xmlns=\"http://www.w3.org/2000/svg\" height=\"24px\"viewBox=\"0 0 24 24\"\n",
              "     width=\"24px\">\n",
              "    <g>\n",
              "        <path d=\"M19 3H5c-1.1 0-2 .9-2 2v14c0 1.1.9 2 2 2h14c1.1 0 2-.9 2-2V5c0-1.1-.9-2-2-2zM9 17H7v-7h2v7zm4 0h-2V7h2v10zm4 0h-2v-4h2v4z\"/>\n",
              "    </g>\n",
              "</svg>\n",
              "      </button>\n",
              "\n",
              "<style>\n",
              "  .colab-df-quickchart {\n",
              "      --bg-color: #E8F0FE;\n",
              "      --fill-color: #1967D2;\n",
              "      --hover-bg-color: #E2EBFA;\n",
              "      --hover-fill-color: #174EA6;\n",
              "      --disabled-fill-color: #AAA;\n",
              "      --disabled-bg-color: #DDD;\n",
              "  }\n",
              "\n",
              "  [theme=dark] .colab-df-quickchart {\n",
              "      --bg-color: #3B4455;\n",
              "      --fill-color: #D2E3FC;\n",
              "      --hover-bg-color: #434B5C;\n",
              "      --hover-fill-color: #FFFFFF;\n",
              "      --disabled-bg-color: #3B4455;\n",
              "      --disabled-fill-color: #666;\n",
              "  }\n",
              "\n",
              "  .colab-df-quickchart {\n",
              "    background-color: var(--bg-color);\n",
              "    border: none;\n",
              "    border-radius: 50%;\n",
              "    cursor: pointer;\n",
              "    display: none;\n",
              "    fill: var(--fill-color);\n",
              "    height: 32px;\n",
              "    padding: 0;\n",
              "    width: 32px;\n",
              "  }\n",
              "\n",
              "  .colab-df-quickchart:hover {\n",
              "    background-color: var(--hover-bg-color);\n",
              "    box-shadow: 0 1px 2px rgba(60, 64, 67, 0.3), 0 1px 3px 1px rgba(60, 64, 67, 0.15);\n",
              "    fill: var(--button-hover-fill-color);\n",
              "  }\n",
              "\n",
              "  .colab-df-quickchart-complete:disabled,\n",
              "  .colab-df-quickchart-complete:disabled:hover {\n",
              "    background-color: var(--disabled-bg-color);\n",
              "    fill: var(--disabled-fill-color);\n",
              "    box-shadow: none;\n",
              "  }\n",
              "\n",
              "  .colab-df-spinner {\n",
              "    border: 2px solid var(--fill-color);\n",
              "    border-color: transparent;\n",
              "    border-bottom-color: var(--fill-color);\n",
              "    animation:\n",
              "      spin 1s steps(1) infinite;\n",
              "  }\n",
              "\n",
              "  @keyframes spin {\n",
              "    0% {\n",
              "      border-color: transparent;\n",
              "      border-bottom-color: var(--fill-color);\n",
              "      border-left-color: var(--fill-color);\n",
              "    }\n",
              "    20% {\n",
              "      border-color: transparent;\n",
              "      border-left-color: var(--fill-color);\n",
              "      border-top-color: var(--fill-color);\n",
              "    }\n",
              "    30% {\n",
              "      border-color: transparent;\n",
              "      border-left-color: var(--fill-color);\n",
              "      border-top-color: var(--fill-color);\n",
              "      border-right-color: var(--fill-color);\n",
              "    }\n",
              "    40% {\n",
              "      border-color: transparent;\n",
              "      border-right-color: var(--fill-color);\n",
              "      border-top-color: var(--fill-color);\n",
              "    }\n",
              "    60% {\n",
              "      border-color: transparent;\n",
              "      border-right-color: var(--fill-color);\n",
              "    }\n",
              "    80% {\n",
              "      border-color: transparent;\n",
              "      border-right-color: var(--fill-color);\n",
              "      border-bottom-color: var(--fill-color);\n",
              "    }\n",
              "    90% {\n",
              "      border-color: transparent;\n",
              "      border-bottom-color: var(--fill-color);\n",
              "    }\n",
              "  }\n",
              "</style>\n",
              "\n",
              "      <script>\n",
              "        async function quickchart(key) {\n",
              "          const quickchartButtonEl =\n",
              "            document.querySelector('#' + key + ' button');\n",
              "          quickchartButtonEl.disabled = true;  // To prevent multiple clicks.\n",
              "          quickchartButtonEl.classList.add('colab-df-spinner');\n",
              "          try {\n",
              "            const charts = await google.colab.kernel.invokeFunction(\n",
              "                'suggestCharts', [key], {});\n",
              "          } catch (error) {\n",
              "            console.error('Error during call to suggestCharts:', error);\n",
              "          }\n",
              "          quickchartButtonEl.classList.remove('colab-df-spinner');\n",
              "          quickchartButtonEl.classList.add('colab-df-quickchart-complete');\n",
              "        }\n",
              "        (() => {\n",
              "          let quickchartButtonEl =\n",
              "            document.querySelector('#df-bf3ff068-b0c7-4339-9140-d4711b85bd24 button');\n",
              "          quickchartButtonEl.style.display =\n",
              "            google.colab.kernel.accessAllowed ? 'block' : 'none';\n",
              "        })();\n",
              "      </script>\n",
              "    </div>\n",
              "\n",
              "    </div>\n",
              "  </div>\n"
            ],
            "text/plain": [
              "   Level  ISCO 08 Code                                           Title EN  \\\n",
              "0      1             1                                           Managers   \n",
              "1      2            11  Chief Executives, Senior Officials and Legisla...   \n",
              "2      2            12             Administrative and Commercial Managers   \n",
              "3      2            13       Production and Specialized Services Managers   \n",
              "4      2            14    Hospitality, Retail and Other Services Managers   \n",
              "\n",
              "                                          Definition  \\\n",
              "0  Managers plan, direct, coordinate and evaluate...   \n",
              "1  Chief executives, senior officials and legisla...   \n",
              "2  Administrative and commercial managers plan, o...   \n",
              "3  Production and specialized services managers p...   \n",
              "4  Hospitality, shop and related services manager...   \n",
              "\n",
              "                                       Tasks include  \\\n",
              "0  Tasks performed by managers usually include: f...   \n",
              "1  Tasks performed by workers in this sub-major g...   \n",
              "2  Tasks performed by workers in this sub-major g...   \n",
              "3  Tasks performed by workers in this sub-major g...   \n",
              "4  Tasks performed by workers in this sub-major g...   \n",
              "\n",
              "                                Included occupations  \n",
              "0  Occupations in this major group are classified...  \n",
              "1  Occupations in this sub-major group are classi...  \n",
              "2  Occupations in this sub-major group are classi...  \n",
              "3  Occupations in this sub-major group are classi...  \n",
              "4  Occupations in this sub-major group are classi...  "
            ]
          },
          "execution_count": 4,
          "metadata": {},
          "output_type": "execute_result"
        }
      ],
      "source": [
        "df = pd.read_csv(\"isco-08-en.csv\", sep=\",\")\n",
        "\n",
        "df.head(5)"
      ]
    },
    {
      "cell_type": "markdown",
      "id": "ceb3fd17",
      "metadata": {
        "id": "ceb3fd17"
      },
      "source": [
        "As we can see, there are different hierarchy levels and different textual columns in this dataset. How do we handle this? Usually, the more context the better, so we will use all the textual columns to create one descriptor for each job classification."
      ]
    },
    {
      "cell_type": "code",
      "execution_count": 5,
      "id": "1cd29f79",
      "metadata": {
        "id": "1cd29f79"
      },
      "outputs": [],
      "source": [
        "descriptor_template = \"\"\"# Title: {title}\n",
        "# Definition: {definition}\n",
        "# Included tasks and occupations: {tasks} {occupations}\"\"\"\n",
        "\n",
        "for i, row in df.iterrows():\n",
        "    title = row[\"Title EN\"]\n",
        "    definition = row[\"Definition\"]\n",
        "    tasks = row[\"Tasks include\"]\n",
        "    occupations = row[\"Included occupations\"]\n",
        "\n",
        "    descriptor = descriptor_template.format(\n",
        "        title=title, definition=definition, tasks=tasks, occupations=occupations\n",
        "    )\n",
        "    df.at[i, \"Descriptor\"] = descriptor"
      ]
    },
    {
      "cell_type": "markdown",
      "id": "d5259cbf",
      "metadata": {
        "id": "d5259cbf"
      },
      "source": [
        "## Sentence Embedding\n",
        "Now, we will load a pre-trained sentence transformer to encode the descriptors into unique dense embedding vectors."
      ]
    },
    {
      "cell_type": "code",
      "execution_count": null,
      "id": "5be4b971",
      "metadata": {
        "id": "5be4b971"
      },
      "outputs": [],
      "source": [
        "model = SentenceTransformer(\"sentence-transformers/all-MiniLM-L6-v2\", device=device)\n",
        "\n",
        "embeddings = model.encode(df[\"Descriptor\"].tolist(), show_progress_bar=True)"
      ]
    },
    {
      "cell_type": "markdown",
      "id": "268a8545",
      "metadata": {
        "id": "268a8545"
      },
      "source": [
        "Now we have a dense vector associated to each job classification, representing our knowledge base. We now need to setup a retrieval system, including a similarity measure. We will use cosine similarity between the user query (in this case, an enterprise's text from balance sheets) and the vectors in the knowledge base."
      ]
    },
    {
      "cell_type": "code",
      "execution_count": 7,
      "id": "203e409c",
      "metadata": {
        "id": "203e409c"
      },
      "outputs": [],
      "source": [
        "def get_most_similar(query, embeddings, model, k=5):\n",
        "    encoded_query = model.encode(query)\n",
        "    cos_sims = cosine_similarity([encoded_query], embeddings)[0]\n",
        "    most_similar_ids = cos_sims.argsort()[-k:][::-1]\n",
        "    return most_similar_ids"
      ]
    },
    {
      "cell_type": "markdown",
      "id": "302dbca3",
      "metadata": {
        "id": "302dbca3"
      },
      "source": [
        "Now we can write a simple query and test the retrieval mechanism. The **get_most_similar** function will retrieve the IDs of the job classifications."
      ]
    },
    {
      "cell_type": "code",
      "execution_count": 8,
      "id": "2fdc37dd",
      "metadata": {
        "colab": {
          "base_uri": "https://localhost:8080/"
        },
        "id": "2fdc37dd",
        "outputId": "163b473e-5ac0-4ebd-c511-ddcce826e3f4"
      },
      "outputs": [
        {
          "name": "stdout",
          "output_type": "stream",
          "text": [
            "(1) Metal, Machinery and Related Trades Workers - Level 72\n",
            "(2) Craft and Related Trades Workers - Level 7\n",
            "(3) Labourers in Mining, Construction, Manufacturing and Transport - Level 93\n",
            "(4) Science and Engineering Professionals - Level 21\n",
            "(5) Building and Related Trades Workers (excluding Electricians) - Level 71\n"
          ]
        }
      ],
      "source": [
        "query = \"Our activity produced three thousands tons of metal in the year 2025.\"\n",
        "\n",
        "most_similar_ids = get_most_similar(query, embeddings, model, 5)\n",
        "\n",
        "for idx, identifier in enumerate(most_similar_ids):\n",
        "    row = df.iloc[identifier]\n",
        "    print(f'({idx+1}) {row[\"Title EN\"]} - Level {row[\"ISCO 08 Code\"]}')"
      ]
    },
    {
      "cell_type": "markdown",
      "id": "bc6f67ea",
      "metadata": {
        "id": "bc6f67ea"
      },
      "source": [
        "## LLM Implementation\n",
        "In RAG pipelines, the generative LLM is usually the last element in the chain, as it will receive the user query along the retrieved relevant information. First of all, we need to load the llm model. We will use Google's [Gemma 3 (1B) instruction tuned model](https://huggingface.co/unsloth/gemma-3-1b-it). We load it from [Unsloth](https://unsloth.ai/?ref=producthunt) since they don't require user authentication, but it's the same model."
      ]
    },
    {
      "cell_type": "code",
      "execution_count": null,
      "id": "oNcLGTIL-dOV",
      "metadata": {
        "id": "oNcLGTIL-dOV"
      },
      "outputs": [],
      "source": [
        "llm = pipeline(\"text-generation\", model=\"unsloth/gemma-3-1b-it\", device=device)"
      ]
    },
    {
      "cell_type": "markdown",
      "id": "ZykTYCql_JB9",
      "metadata": {
        "id": "ZykTYCql_JB9"
      },
      "source": [
        "Let's define a prompt structure. This needs to be tweaked to suit your needs: for example, we can ask the model to output *only* the code, or the title, or format its response in a specific way."
      ]
    },
    {
      "cell_type": "code",
      "execution_count": 10,
      "id": "lKovvaLP-nMF",
      "metadata": {
        "id": "lKovvaLP-nMF"
      },
      "outputs": [],
      "source": [
        "prompt_template = \"\"\"Given this text: \"{query}\"\n",
        "\n",
        "Classify it into one of the following job classifications: {most_similar_jobs}\"\"\""
      ]
    },
    {
      "cell_type": "markdown",
      "id": "VCs3xoWvzJG1",
      "metadata": {
        "id": "VCs3xoWvzJG1"
      },
      "source": [
        "To help the model understand the task, we can also include a system prompt."
      ]
    },
    {
      "cell_type": "code",
      "execution_count": 17,
      "id": "O8J61wE4zNXU",
      "metadata": {
        "id": "O8J61wE4zNXU"
      },
      "outputs": [],
      "source": [
        "system_prompt = \"\"\"You classify text from enterprises' balance sheets into one of the given job classifications.\n",
        "You **ONLY** output the _exact_ name of the class, without any additional text.\"\"\""
      ]
    },
    {
      "cell_type": "markdown",
      "id": "RUUW7wFJ_fwH",
      "metadata": {
        "id": "RUUW7wFJ_fwH"
      },
      "source": [
        "Now let's implement the full pipeline."
      ]
    },
    {
      "cell_type": "code",
      "execution_count": 25,
      "id": "hObQc7Pe_HO4",
      "metadata": {
        "colab": {
          "base_uri": "https://localhost:8080/"
        },
        "id": "hObQc7Pe_HO4",
        "outputId": "2053a355-6e77-416f-f0fe-7f9d6fdcf56a"
      },
      "outputs": [
        {
          "name": "stderr",
          "output_type": "stream",
          "text": [
            "You seem to be using the pipelines sequentially on GPU. In order to maximize efficiency please use a dataset\n"
          ]
        },
        {
          "name": "stdout",
          "output_type": "stream",
          "text": [
            "Metal, Machinery and Related Trades Workers\n",
            "\n"
          ]
        }
      ],
      "source": [
        "query = \"Our activity produced three thousands tons of metal in the year 2025.\"\n",
        "\n",
        "most_similar_ids = get_most_similar(query, embeddings, model, 5)\n",
        "\n",
        "most_similar_jobs = \"\\n\".join(\n",
        "    [f\"({idx+1}) \" + df.iloc[identifier][\"Title EN\"] for idx, identifier in enumerate(most_similar_ids)]\n",
        ")\n",
        "\n",
        "messages = [\n",
        "    {\"role\": \"system\", \"content\": [{\"type\": \"text\", \"text\": system_prompt}]},\n",
        "    {\"role\": \"user\", \"content\": [{\"type\": \"text\", \"text\": prompt_template.format(query=query, most_similar_jobs=most_similar_jobs)}]},\n",
        "]\n",
        "\n",
        "response = llm(messages, max_new_tokens=20)[0]['generated_text'][2]['content']\n",
        "\n",
        "print(response)"
      ]
    },
    {
      "cell_type": "markdown",
      "id": "cixhMl6h00HX",
      "metadata": {
        "id": "cixhMl6h00HX"
      },
      "source": [
        "### Classification of multiple texts\n",
        "Say we have multiple texts we want to classify. For efficiency, we can conveniently use Hugging Face's `datasets` library, which is very easy to set up and makes things much faster. This is particularly useful when we need to classify a large number of texts."
      ]
    },
    {
      "cell_type": "code",
      "execution_count": 47,
      "id": "W2ofFXiU1AnM",
      "metadata": {
        "id": "W2ofFXiU1AnM"
      },
      "outputs": [],
      "source": [
        "queries = [\n",
        "    \"Our activity produced three thousands tons of metal in the year 2025.\",\n",
        "    \"We invested ten million dollars to research new vaccines.\",\n",
        "    \"During 2025, we introduced several new products including new pastas and salads options.\"\n",
        "]\n",
        "\n",
        "queries_dataset = datasets.Dataset.from_dict({\"query\": queries})"
      ]
    },
    {
      "cell_type": "markdown",
      "id": "0iXaNR6C17hs",
      "metadata": {
        "id": "0iXaNR6C17hs"
      },
      "source": [
        "The pipeline object automatically handles parallel processing, so this is as easy as passing the list of messages to the llm."
      ]
    },
    {
      "cell_type": "code",
      "execution_count": 48,
      "id": "xVxR5h-L2HEM",
      "metadata": {
        "id": "xVxR5h-L2HEM"
      },
      "outputs": [],
      "source": [
        "messages = []\n",
        "\n",
        "for query in queries_dataset[\"query\"]:\n",
        "    most_similar_ids = get_most_similar(query, embeddings, model, 5)\n",
        "    most_similar_jobs = \"\\n\".join(\n",
        "        [f\"({idx+1}) \" + df.iloc[identifier][\"Title EN\"] for idx, identifier in enumerate(most_similar_ids)]\n",
        "    )\n",
        "    message = [\n",
        "        {\"role\": \"system\", \"content\": [{\"type\": \"text\", \"text\": system_prompt}]},\n",
        "        {\"role\": \"user\", \"content\": [{\"type\": \"text\", \"text\": prompt_template.format(query=query, most_similar_jobs=most_similar_jobs)}]},\n",
        "    ]\n",
        "    messages.append(message)\n",
        "\n",
        "output = llm(messages, max_new_tokens=20)\n",
        "responses = [output[i][0]['generated_text'][2]['content'] for i in range(len(output))]"
      ]
    },
    {
      "cell_type": "markdown",
      "id": "wPFr_FbS3hH0",
      "metadata": {
        "id": "wPFr_FbS3hH0"
      },
      "source": [
        "Finally, we can inspect the results."
      ]
    },
    {
      "cell_type": "code",
      "execution_count": 49,
      "id": "sKAnwzUr28kl",
      "metadata": {
        "colab": {
          "base_uri": "https://localhost:8080/"
        },
        "id": "sKAnwzUr28kl",
        "outputId": "65d83660-424e-4cfa-bf0c-4ba3428314eb"
      },
      "outputs": [
        {
          "name": "stdout",
          "output_type": "stream",
          "text": [
            "Query: \"Our activity produced three thousands tons of metal in the year 2025.\"\n",
            "Response: \"Metal, Machinery and Related Trades Workers\n",
            "\"\n",
            "\n",
            "Query: \"We invested ten million dollars to research new vaccines.\"\n",
            "Response: \"Health Professionals\n",
            "\"\n",
            "\n",
            "Query: \"During 2025, we introduced several new products including new pastas and salads options.\"\n",
            "Response: \"Food Preparation Assistants\n",
            "\"\n",
            "\n"
          ]
        }
      ],
      "source": [
        "for query, response in zip(queries, responses):\n",
        "    print(f'Query: \"{query}\"\\nResponse: \"{response}\"\\n')"
      ]
    }
  ],
  "metadata": {
    "accelerator": "GPU",
    "colab": {
      "gpuType": "T4",
      "provenance": []
    },
    "kernelspec": {
      "display_name": "Python 3",
      "name": "python3"
    },
    "language_info": {
      "codemirror_mode": {
        "name": "ipython",
        "version": 3
      },
      "file_extension": ".py",
      "mimetype": "text/x-python",
      "name": "python",
      "nbconvert_exporter": "python",
      "pygments_lexer": "ipython3",
      "version": "3.12.1"
    }
  },
  "nbformat": 4,
  "nbformat_minor": 5
}
